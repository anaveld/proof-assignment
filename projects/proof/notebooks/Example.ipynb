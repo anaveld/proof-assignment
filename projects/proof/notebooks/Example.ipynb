{
 "cells": [
  {
   "cell_type": "markdown",
   "metadata": {},
   "source": [
    "# WELCOME"
   ]
  },
  {
   "cell_type": "markdown",
   "metadata": {},
   "source": [
    "here we have some example to access databases from the same extensions we wrote on `rapydo` for Flask"
   ]
  },
  {
   "cell_type": "markdown",
   "metadata": {},
   "source": [
    "## create an object\n",
    "\n",
    "this will be needed in the examples"
   ]
  },
  {
   "cell_type": "code",
   "execution_count": 1,
   "metadata": {},
   "outputs": [],
   "source": [
    "from pytz import utc\n",
    "from datetime import datetime\n",
    "now = datetime.now(utc)"
   ]
  },
  {
   "cell_type": "code",
   "execution_count": 2,
   "metadata": {},
   "outputs": [],
   "source": [
    "example_dict = {\n",
    "    'name': \"Test\", \n",
    "    'truth': True, \n",
    "    'description': \"Hello World\", \n",
    "    'created': now\n",
    "}"
   ]
  },
  {
   "cell_type": "markdown",
   "metadata": {},
   "source": [
    "---"
   ]
  },
  {
   "cell_type": "markdown",
   "metadata": {},
   "source": [
    "## MONGODB"
   ]
  },
  {
   "cell_type": "markdown",
   "metadata": {},
   "source": [
    "### connect to mongo"
   ]
  },
  {
   "cell_type": "code",
   "execution_count": 3,
   "metadata": {},
   "outputs": [],
   "source": [
    "from proof.apis.services import mongo"
   ]
  },
  {
   "cell_type": "code",
   "execution_count": 4,
   "metadata": {},
   "outputs": [
    {
     "name": "stdout",
     "output_type": "stream",
     "text": [
      "Connected to service: mongo\n",
      "Current db: proof\n"
     ]
    }
   ],
   "source": [
    "client, odm, db_name = mongo()\n",
    "\n",
    "# client -> a normal pymongo connection\n",
    "# odm -> a link to use ODM (like ORM) models \n",
    "# db_name -> the database name for the default db in mongo\n",
    "\n",
    "print(\"Current db: %s\" % db_name)"
   ]
  },
  {
   "cell_type": "markdown",
   "metadata": {},
   "source": [
    "### using ODM"
   ]
  },
  {
   "cell_type": "markdown",
   "metadata": {},
   "source": [
    "For more models write one into `projects/proof/backend/models/mongo.py`\n",
    "\n",
    "They are automatically injected in the ODM object!"
   ]
  },
  {
   "cell_type": "code",
   "execution_count": 5,
   "metadata": {},
   "outputs": [
    {
     "data": {
      "text/plain": [
       "Examples(name='Test', truth=True, description='Hello World', created=datetime.datetime(2018, 7, 20, 22, 58, 34, 282552, tzinfo=<UTC>), value=1)"
      ]
     },
     "execution_count": 5,
     "metadata": {},
     "output_type": "execute_result"
    }
   ],
   "source": [
    "element = odm.Examples(**example_dict).save()\n",
    "# now this element is saved inside the db\n",
    "element"
   ]
  },
  {
   "cell_type": "markdown",
   "metadata": {},
   "source": [
    "### check with a GUI"
   ]
  },
  {
   "cell_type": "markdown",
   "metadata": {},
   "source": [
    "If you launch the interface from command line:\n",
    "\n",
    "`rapydo --mode notebook interfaces mongo` and then access:\n",
    "\n",
    "http://localhost:8081/db/proof/examples"
   ]
  },
  {
   "cell_type": "markdown",
   "metadata": {},
   "source": [
    "---"
   ]
  },
  {
   "cell_type": "markdown",
   "metadata": {},
   "source": [
    "## POSTGRESQL"
   ]
  },
  {
   "cell_type": "markdown",
   "metadata": {},
   "source": [
    "### connect to postgres"
   ]
  },
  {
   "cell_type": "code",
   "execution_count": 6,
   "metadata": {},
   "outputs": [
    {
     "name": "stdout",
     "output_type": "stream",
     "text": [
      "Connected to service: sqlalchemy\n",
      "Current db: proof\n"
     ]
    }
   ],
   "source": [
    "from proof.apis.services import postgres\n",
    "app, orm, db_name = postgres()\n",
    "\n",
    "# app -> a flask mock app to use sqlalchemy as you would do in the flask app\n",
    "# orm -> a link to use ORM models \n",
    "# db_name -> the database name for the default db in postgres/sqlalchemy\n",
    "\n",
    "print(\"Current db: %s\" % db_name)"
   ]
  },
  {
   "cell_type": "markdown",
   "metadata": {},
   "source": [
    "### use ORM"
   ]
  },
  {
   "cell_type": "markdown",
   "metadata": {},
   "source": [
    "For more models write one into `projects/proof/backend/models/sqlalchemy.py`\n",
    "\n",
    "They are automatically injected in the ORM object!"
   ]
  },
  {
   "cell_type": "code",
   "execution_count": 7,
   "metadata": {},
   "outputs": [
    {
     "data": {
      "text/plain": [
       "<Examples 11>"
      ]
     },
     "execution_count": 7,
     "metadata": {},
     "output_type": "execute_result"
    }
   ],
   "source": [
    "with app.app_context():\n",
    "    orm.Examples.query.delete() # truncate table to avoid primary keys clashing\n",
    "    example = orm.Examples(**example_dict)\n",
    "    orm.session.add(example)\n",
    "    orm.session.commit()\n",
    "    \n",
    "# NOTE: you need to use the Flask app context \n",
    "# because `sqlalchemy` in rapydo is the one from Flask-Sqlalchemy plugin    \n",
    "\n",
    "example"
   ]
  },
  {
   "cell_type": "markdown",
   "metadata": {},
   "source": [
    "### check with a GUI"
   ]
  },
  {
   "cell_type": "markdown",
   "metadata": {},
   "source": [
    "If you launch the interface from command line:\n",
    "\n",
    "`rapydo --mode notebook interfaces sqlalchemy` and then access:\n",
    "\n",
    "http://localhost:8082/?pgsql=psqldb.dockerized.io&username=admin&db=proof&ns=public&select=examples\n",
    "\n",
    "the password is:"
   ]
  },
  {
   "cell_type": "code",
   "execution_count": 8,
   "metadata": {},
   "outputs": [
    {
     "name": "stdout",
     "output_type": "stream",
     "text": [
      "ALCHEMY_PASSWORD=somenicelongpasswordtowritedown\r\n"
     ]
    }
   ],
   "source": [
    "! env | grep ALC | grep PASS"
   ]
  },
  {
   "cell_type": "markdown",
   "metadata": {},
   "source": [
    "### normal SQL queries"
   ]
  },
  {
   "cell_type": "code",
   "execution_count": 9,
   "metadata": {},
   "outputs": [
    {
     "name": "stdout",
     "output_type": "stream",
     "text": [
      "(11, 'Test', True, 'Hello World', datetime.datetime(2018, 7, 20, 22, 58, 34, 282552), 1)\n"
     ]
    }
   ],
   "source": [
    "with app.app_context():\n",
    "    from sqlalchemy import text\n",
    "    sql = text('SELECT * from examples')\n",
    "\n",
    "    result = orm.engine.execute(sql)\n",
    "    for row in result:\n",
    "        print(row)"
   ]
  },
  {
   "cell_type": "markdown",
   "metadata": {},
   "source": [
    "---"
   ]
  },
  {
   "cell_type": "markdown",
   "metadata": {},
   "source": [
    "# THE END `:)`"
   ]
  }
 ],
 "metadata": {
  "kernelspec": {
   "display_name": "Python 3",
   "language": "python",
   "name": "python3"
  },
  "language_info": {
   "codemirror_mode": {
    "name": "ipython",
    "version": 3
   },
   "file_extension": ".py",
   "mimetype": "text/x-python",
   "name": "python",
   "nbconvert_exporter": "python",
   "pygments_lexer": "ipython3",
   "version": "3.6.6"
  }
 },
 "nbformat": 4,
 "nbformat_minor": 2
}
