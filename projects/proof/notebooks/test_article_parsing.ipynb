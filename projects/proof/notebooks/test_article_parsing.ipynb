{
 "cells": [
  {
   "cell_type": "code",
   "execution_count": 1,
   "metadata": {},
   "outputs": [
    {
     "name": "stdout",
     "output_type": "stream",
     "text": [
      "Connected to service: mongo\n",
      "Current db: proof\n",
      "[nltk_data] Downloading package punkt to /code/nltk_data...\n",
      "[nltk_data]   Unzipping tokenizers/punkt.zip.\n"
     ]
    },
    {
     "data": {
      "text/plain": [
       "True"
      ]
     },
     "execution_count": 1,
     "metadata": {},
     "output_type": "execute_result"
    }
   ],
   "source": [
    "from proof.apis.services import mongo\n",
    "client, odm, db_name = mongo()\n",
    "# client -> a normal pymongo connection\n",
    "# odm -> a link to use ODM (like ORM) models \n",
    "# db_name -> the database name for the default db in mongo\n",
    "print(\"Current db: %s\" % db_name)\n",
    "\n",
    "from newspaper import Article\n",
    "## need this for keyword parsing\n",
    "import nltk\n",
    "nltk.download('punkt')"
   ]
  },
  {
   "cell_type": "code",
   "execution_count": 2,
   "metadata": {},
   "outputs": [],
   "source": [
    "## some BBC article: \n",
    "url = \"https://www.cnn.com/2018/07/17/politics/trump-putin-russia-claim-military-agreements/index.html\"\n",
    "article = Article(url)\n",
    "article.download()\n",
    "article.parse()\n",
    "\n",
    "## article is now downloaded & parsed for basics -- text, author, timestamp\n",
    "text = article.text\n",
    "authors = article.authors\n",
    "create_date = article.publish_date\n",
    "title = article.title"
   ]
  },
  {
   "cell_type": "code",
   "execution_count": 8,
   "metadata": {},
   "outputs": [
    {
     "data": {
      "text/plain": [
       "datetime.datetime(2018, 7, 17, 0, 0)"
      ]
     },
     "execution_count": 8,
     "metadata": {},
     "output_type": "execute_result"
    }
   ],
   "source": [
    "create_date"
   ]
  },
  {
   "cell_type": "code",
   "execution_count": 6,
   "metadata": {},
   "outputs": [],
   "source": [
    "## now we can parse the article for keywords\n",
    "article.nlp()\n",
    "\n",
    "keywords = article.keywords\n",
    "\n",
    "## as well as a summary, but not sure if we will use this\n",
    "summary = article.summary"
   ]
  },
  {
   "cell_type": "code",
   "execution_count": 9,
   "metadata": {},
   "outputs": [
    {
     "data": {
      "text/plain": [
       "False"
      ]
     },
     "execution_count": 9,
     "metadata": {},
     "output_type": "execute_result"
    }
   ],
   "source": [
    "text == summary"
   ]
  },
  {
   "cell_type": "code",
   "execution_count": 11,
   "metadata": {},
   "outputs": [
    {
     "data": {
      "text/plain": [
       "'Washington (CNN) Russia announced it was ready to pursue agreements reached by Presidents Vladimir Putin and Donald Trump \"in the sphere of international security,\" though the White House and Pentagon would not confirm any agreements had been made or offer any details.\\nTrump and Putin met for about two hours during their summit in Helsinki with only translators present.\\nThe Russian military \"is ready to intensify contacts with the US colleagues in the General Staff and other available channels to discuss the extension of the START treaty, cooperation in Syria, as well as other issues of ensuring military security,\" Konashenkov said.\\nThe National Security Council would not confirm what Trump had agreed to in the one-on-one with Putin.\\nA spokesman for the NSC told CNN on Tuesday that they were still \"reviewing the discussion.\"'"
      ]
     },
     "execution_count": 11,
     "metadata": {},
     "output_type": "execute_result"
    }
   ],
   "source": [
    "summary"
   ]
  }
 ],
 "metadata": {
  "kernelspec": {
   "display_name": "Python 3",
   "language": "python",
   "name": "python3"
  },
  "language_info": {
   "codemirror_mode": {
    "name": "ipython",
    "version": 3
   },
   "file_extension": ".py",
   "mimetype": "text/x-python",
   "name": "python",
   "nbconvert_exporter": "python",
   "pygments_lexer": "ipython3",
   "version": "3.6.6"
  }
 },
 "nbformat": 4,
 "nbformat_minor": 2
}
